{
 "cells": [
  {
   "cell_type": "markdown",
   "id": "bc0161a4-a186-4a06-972a-1b7f807b197c",
   "metadata": {},
   "source": [
    "# Introduction to Audio Machine Learning\n",
    "## Week 7 Worksheet - Comprehensions and Spectrograms\n",
    "-----\n",
    "Welcome! In this notebook, we’ll introduce List and Dictionary Comprehensions in Python, as well as loading audio data and working with spectrograms.\n",
    "\n",
    "There are weekly computer lab sessions, 12:10-13:00 , or 13:10-14:00, on Wednesdays in Computer Lab B.51, Hugh Robson Building. To get the most out of these sessions, I **strongly** recommend you work through the worksheet in your own time before attending the session."
   ]
  },
  {
   "cell_type": "markdown",
   "id": "4a997fdd-b3a2-4559-b4c2-d7e955549cf2",
   "metadata": {},
   "source": [
    "## 1 - List Comprehensions in Python\n",
    "\n",
    "In Python, **comprehensions** are a compact way to create Python `lists` and `dictionaries`. They can be used to replace short for-loops with a single line. You may come accross these in Python code written by others, so it is worth familarising yourself with the syntax."
   ]
  },
  {
   "cell_type": "markdown",
   "id": "1cd1a84c-4336-46ab-b8c1-550e2faae1f3",
   "metadata": {},
   "source": [
    "### 1.1 - List Comprehensions\n",
    "\n",
    "The basic syntax for a `list` comprehension is:\n",
    "\n",
    "`[expression for item in iterable]`\n",
    "\n",
    "A comprehensions is often used as an alternative to building a list using a for loop. For example:"
   ]
  },
  {
   "cell_type": "code",
   "execution_count": null,
   "id": "7d5d5c8d-6ced-4ee4-89d9-435c0aaa3b1c",
   "metadata": {},
   "outputs": [],
   "source": [
    "nums = list(range(10)) # Start with the numbers from 0 to 9\n",
    "print(nums)"
   ]
  },
  {
   "cell_type": "code",
   "execution_count": null,
   "id": "efc08e0e-e164-4161-bf84-1e2d8a446f59",
   "metadata": {},
   "outputs": [],
   "source": [
    "# Loop version\n",
    "squares_loop = []\n",
    "for n in nums:\n",
    "    squares_loop.append(n * n)"
   ]
  },
  {
   "cell_type": "markdown",
   "id": "712201e7-6b6f-48aa-8b5d-2cb410501a3c",
   "metadata": {},
   "source": [
    "The above code creates a `list` of squared numbers. The `list` comprehension equivalent is:"
   ]
  },
  {
   "cell_type": "code",
   "execution_count": null,
   "id": "bd8aaabd-a8fb-42d8-a202-68c71139a49e",
   "metadata": {},
   "outputs": [],
   "source": [
    "squares_comp = [n * n for n in nums] # So short, so elegant!"
   ]
  },
  {
   "cell_type": "code",
   "execution_count": null,
   "id": "a2e5b7a8-0fc2-4921-9bb1-ef69735587be",
   "metadata": {},
   "outputs": [],
   "source": [
    "print(squares_loop)\n",
    "print(squares_comp)\n",
    "assert squares_loop == squares_comp\n",
    "print(\"squares_comp matches squares_loop.\")"
   ]
  },
  {
   "cell_type": "markdown",
   "id": "d56313e1-ad98-4574-a524-5199c740127e",
   "metadata": {},
   "source": [
    "---\n",
    "### ✏️✏️ Exercise 1.1: Convert to a Comprehension ✏️✏️\n",
    "---\n",
    "Convert the following for-loop to a one-line comprehension."
   ]
  },
  {
   "cell_type": "code",
   "execution_count": null,
   "id": "01763684-92be-4574-a521-74ca85277f25",
   "metadata": {},
   "outputs": [],
   "source": [
    "nums = [2, 4, 6, 8]\n",
    "doubles_loop = []\n",
    "for n in nums:\n",
    "    doubles_loop.append(2 * n)"
   ]
  },
  {
   "cell_type": "code",
   "execution_count": null,
   "id": "49d5718a-c92d-42d6-954d-52abb7ca5335",
   "metadata": {},
   "outputs": [],
   "source": [
    "# Your code here: use a list comprehension of the form [expression for item in iterable],\n",
    "# that produces the same result as 'doubles_loop'"
   ]
  },
  {
   "cell_type": "code",
   "execution_count": null,
   "id": "d0f591f5-a74f-4ef6-96f7-3d91a435dfbd",
   "metadata": {},
   "outputs": [],
   "source": [
    "# Check your answer\n",
    "assert doubles_comp == doubles_loop, f\"Got {doubles_comp}, expected {doubles_loop}\"\n",
    "print(\"Correct!\")"
   ]
  },
  {
   "cell_type": "markdown",
   "id": "58ba274b-bfc7-4cf1-bf7d-2577872ba5d2",
   "metadata": {},
   "source": [
    "---\n",
    "### ✏️✏️ Exercise 1.2: Truncate a List of Strings ✏️✏️\n",
    "---\n",
    "Below is a `list` of strings:"
   ]
  },
  {
   "cell_type": "code",
   "execution_count": null,
   "id": "31c36395-f487-427a-8655-043497ff609b",
   "metadata": {},
   "outputs": [],
   "source": [
    "string_list = ['file_1.wav', 'drum_sound.wav', 'audio_test.wav', 'file_20.wav']"
   ]
  },
  {
   "cell_type": "markdown",
   "id": "a5a8bf03-b95e-4954-8fd6-38bd87e44830",
   "metadata": {},
   "source": [
    "Create a `list` comprehension that takes the `list` of strings, and returns the following `list`: "
   ]
  },
  {
   "cell_type": "code",
   "execution_count": null,
   "id": "6fb1352f-1319-475d-b52f-cf15e17bf836",
   "metadata": {},
   "outputs": [],
   "source": [
    "target_string_list = ['file_1', 'drum_sound', 'audio_test', 'file_20']"
   ]
  },
  {
   "cell_type": "code",
   "execution_count": null,
   "id": "844249e0-35c2-45c7-aa13-379a440afae1",
   "metadata": {},
   "outputs": [],
   "source": [
    "new_string_list = [# Fill in the list comprehension here!]"
   ]
  },
  {
   "cell_type": "code",
   "execution_count": null,
   "id": "da026bb0-6744-488e-aba7-35c04156dba9",
   "metadata": {},
   "outputs": [],
   "source": [
    "# Check your answer\n",
    "assert target_string_list == new_string_list, f\"Got {new_string_list}, expected {target_string_list}\"\n",
    "print(\"Correct!\")"
   ]
  },
  {
   "cell_type": "markdown",
   "id": "b3f32653-dba3-4549-ad59-440c1aad0d1f",
   "metadata": {},
   "source": [
    "### 1.2 - List Comprehensions with Filtering\n",
    "\n",
    "List comprehensions can also include 'filtering' using a if statement. You can use the filter to only include values that meet a condition. The syntax for the filtered list comprehension is:\n",
    "\n",
    "`[expression for item in iterable if condition]`\n"
   ]
  },
  {
   "cell_type": "markdown",
   "id": "eda4df13-6fda-498c-bd7a-f57bde537440",
   "metadata": {},
   "source": [
    "The following example creates a `list` of the squares of the positive values in the `list` named `values`:"
   ]
  },
  {
   "cell_type": "code",
   "execution_count": null,
   "id": "5f0667f4-6dfc-4b02-b912-c198af91f86d",
   "metadata": {},
   "outputs": [],
   "source": [
    "values = [3, -1, 0, 4, -2, 5]\n",
    "positive_squares = [v * v for v in values if v > 0]\n",
    "assert positive_squares == [9, 16, 25]"
   ]
  },
  {
   "cell_type": "markdown",
   "id": "c789c41c-bfe2-4271-8506-d831292a6f53",
   "metadata": {},
   "source": [
    "---\n",
    "### ✏️✏️ Exercise 1.3: Filter and Transform ✏️✏️\n",
    "---\n",
    "Take the `list` named `raw`, and use a list comprehension to create a new list of lowercase strings that are at least 4 characters long. (Hint: Use the string method `.lower()`)"
   ]
  },
  {
   "cell_type": "code",
   "execution_count": null,
   "id": "0419ee19-b761-446d-8330-d6737cb384d3",
   "metadata": {},
   "outputs": [],
   "source": [
    "raw = [\"Bass\", \"sn\", \"Snare\", \"HAT\", \"tom\", \"Clap\", \"FX\"]\n",
    "# Your code here (use a single list comprehension)\n",
    "clean = None  # e.g., Result should be [\"bass\", \"snare\", \"hat\", \"clap\"]"
   ]
  },
  {
   "cell_type": "code",
   "execution_count": null,
   "id": "a6e6c661-64dc-4390-850d-e1c01f95bbb1",
   "metadata": {},
   "outputs": [],
   "source": [
    "# Check your answer\n",
    "assert clean == [\"bass\", \"snare\", \"hat\", \"clap\"], f'Expected [\"bass\", \"snare\", \"hat\", \"clap\"], Got {clean}'\n",
    "print(\"Correct!\")"
   ]
  },
  {
   "cell_type": "markdown",
   "id": "0971f6a1-749d-4825-ab24-6fc36888cac3",
   "metadata": {},
   "source": [
    "### 1.3 - List Comprehensions with Conditional if/else\n",
    "\n",
    "This can be taken further, to include an if/else statement in the list comprehension. The syntax is a little different to the filter version:\n",
    "\n",
    "- Filter: `[expr for x in xs if cond(x)]`\n",
    "- Conditional expression: `[expr_if_true if cond(x) else expr_if_false for x in xs]`\n"
   ]
  },
  {
   "cell_type": "markdown",
   "id": "efd4bb7d-3098-49f1-af51-6eac35bcd393",
   "metadata": {},
   "source": [
    "Here is an example:"
   ]
  },
  {
   "cell_type": "code",
   "execution_count": null,
   "id": "7e6bf6fc-148f-4b11-bf42-997278e1291c",
   "metadata": {},
   "outputs": [],
   "source": [
    "nums = range(8)\n",
    "labels = [\"even\" if (n % 2 == 0) else \"odd\" for n in nums]\n",
    "print(list(nums))\n",
    "print(labels)"
   ]
  },
  {
   "cell_type": "markdown",
   "id": "73dde446-004a-4ddf-963a-110924eb5a65",
   "metadata": {},
   "source": [
    "And here is the equivalent for-loop:"
   ]
  },
  {
   "cell_type": "code",
   "execution_count": null,
   "id": "47b0cd6f-e716-4099-9ba9-7c1535a9bfca",
   "metadata": {},
   "outputs": [],
   "source": [
    "nums = list(range(8))\n",
    "labels = []\n",
    "\n",
    "for n in nums:\n",
    "    if n % 2 == 0:\n",
    "        labels.append('even')\n",
    "    else:\n",
    "        labels.append('odd')"
   ]
  },
  {
   "cell_type": "markdown",
   "id": "9dfcca24-d668-47e1-8e14-d81d7fd0ee97",
   "metadata": {},
   "source": [
    "Note that this 'one-line' if else statement can also be used outside of list comprehensions, for example:"
   ]
  },
  {
   "cell_type": "code",
   "execution_count": null,
   "id": "8d444a07-11e0-4833-9bdd-93ad9cc9210b",
   "metadata": {},
   "outputs": [],
   "source": [
    "x = 5\n",
    "a = 'even' if x%2 == 0 else 'odd'\n",
    "print(a)"
   ]
  },
  {
   "cell_type": "code",
   "execution_count": null,
   "id": "2082e137-82c8-4362-bde9-daf42d0ef622",
   "metadata": {},
   "outputs": [],
   "source": [
    "x = 6\n",
    "a = 'even' if x%2 == 0 else 'odd'\n",
    "print(a)"
   ]
  },
  {
   "cell_type": "markdown",
   "id": "a43d0516-2ce8-466e-ba59-29831c37c983",
   "metadata": {},
   "source": [
    "### ✏️✏️ Exercise 1.4: Noise Gate ✏️✏️\n",
    "Use a conditional expression in a list comprehension to zero-out “quiet” samples.\n",
    "Rule: if the absolute value of `x`, `abs(x) < threshold`, output 0; otherwise keep `x`."
   ]
  },
  {
   "cell_type": "code",
   "execution_count": null,
   "id": "3159fd46-c036-468e-a684-73a093ebb12d",
   "metadata": {},
   "outputs": [],
   "source": [
    "samples = [0.0, -0.03, 0.07, -0.12, 0.04, 0.20]\n",
    "threshold = 0.05\n",
    "\n",
    "# Your code here: use a single inline if/else (no nested conditionals)\n",
    "gated = None  # e.g. answer should be, [0.0, 0.0, 0.07, -0.12, 0.0, 0.20]"
   ]
  },
  {
   "cell_type": "code",
   "execution_count": null,
   "id": "fe3cd3e1-3d63-494c-a456-0161f0fc57a8",
   "metadata": {},
   "outputs": [],
   "source": [
    "# Check answer here\n",
    "expected = [0.0, 0.0, 0.07, -0.12, 0.0, 0.20]\n",
    "assert gated == expected, f\"Got {gated}, expected {expected}\"\n",
    "print(\"Correct!\")"
   ]
  },
  {
   "cell_type": "markdown",
   "id": "2267375e-0ade-444f-891f-2b5859c2cb07",
   "metadata": {},
   "source": [
    "## 2 - Dictionary Comprehensions in Python\n",
    "\n",
    "You can use a similar syntax to create dictionaries from iterables in Python. You can iterate lists, ranges, or dict.items().\n",
    "\n",
    "## 2.1 - Basic Syntax of Dictionary Comprehensions\n",
    "\n",
    "The basic syntax is shown below:\n",
    "\n",
    "`{key: value for member in iterable}`"
   ]
  },
  {
   "cell_type": "markdown",
   "id": "9849337b-76dd-4bbc-8bef-c1ba0a4c2dfc",
   "metadata": {},
   "source": [
    "Here is an example:"
   ]
  },
  {
   "cell_type": "code",
   "execution_count": null,
   "id": "fbd385a5-2508-4e0c-9e18-63d1671e240b",
   "metadata": {},
   "outputs": [],
   "source": [
    "# Squares in a dict\n",
    "nums = [1, 2, 3, 4]\n",
    "squares = {n: n * n for n in nums}\n",
    "print(nums)\n",
    "print(squares)"
   ]
  },
  {
   "cell_type": "markdown",
   "id": "ee061017-5d2d-4bc9-a6d8-0d5bcb3cc08e",
   "metadata": {},
   "source": [
    "Note that dictionary comprehensions create a **new** dictionary, they can't be used to modify an existing dictionary."
   ]
  },
  {
   "cell_type": "markdown",
   "id": "cd24f45b-1e5f-470e-b2d9-6ed5faf498f9",
   "metadata": {},
   "source": [
    "You can use this to, for example, invert a label/index mapping:"
   ]
  },
  {
   "cell_type": "code",
   "execution_count": null,
   "id": "3b4fa1b9-4670-4d04-b4a0-394c06a0cacc",
   "metadata": {},
   "outputs": [],
   "source": [
    "# Invert a mapping (assumes values are unique)\n",
    "label_to_id = {\"piano\": 0, \"guitar\": 1, \"snare\": 2}\n",
    "id_to_label = {v: k for k, v in label_to_id.items()}\n",
    "assert id_to_label == {0: \"piano\", 1: \"guitar\", 2: \"snare\"}\n",
    "print(label_to_id)\n",
    "print(id_to_label)"
   ]
  },
  {
   "cell_type": "markdown",
   "id": "aa64b891-12d1-4229-8348-1d7292341dd6",
   "metadata": {},
   "source": [
    "### ✏️✏️ Exercise 2.1: File Stem to Extension Map ✏️✏️\n",
    "Given filenames, build a dict mapping stem (before the last dot) to extension (after the last dot). Use the string method `.rsplit('.')` to handle names with multiple dots."
   ]
  },
  {
   "cell_type": "code",
   "execution_count": null,
   "id": "3fb9c1cd-3b02-4fbe-8b15-937dad572475",
   "metadata": {},
   "outputs": [],
   "source": [
    "names = [\"kick.wav\", \"drum.loop.v1.wav\", \"notes.txt\", \"snare.WAV\"]\n",
    "# Your code here\n",
    "# Hint:\n",
    "# stem, ext = name.rsplit('.', 1)\n",
    "# Normalize extension to lowercase for consistency\n",
    "stem_to_ext = None"
   ]
  },
  {
   "cell_type": "code",
   "execution_count": null,
   "id": "3934f081-cf5f-4cc3-9dd0-c2aa8d5c0cc5",
   "metadata": {},
   "outputs": [],
   "source": [
    "# Check answer here\n",
    "expected = {\"kick\": \"wav\", \"drum.loop.v1\": \"wav\", \"notes\": \"txt\", \"snare\": \"wav\"}\n",
    "assert stem_to_ext == expected, f\"Got {stem_to_ext}\"\n",
    "print(\"Correct!\")"
   ]
  },
  {
   "cell_type": "markdown",
   "id": "19615c82-f4e2-4d9c-923c-adec300eba5f",
   "metadata": {},
   "source": [
    "### 2.2 - Dictionary Comprehension with Filtering\n",
    "A dictionary comprehension builds a dict by iterating over an iterable and (optionally) filtering items. The filter goes at the end and controls which key-value pairs are included.\n",
    "\n",
    "General form:\n",
    "\n",
    "`{key_expr: value_expr for item in iterable if condition(item)}`"
   ]
  },
  {
   "cell_type": "markdown",
   "id": "1eb5cc22-d92a-43b1-9166-9283cca49a5c",
   "metadata": {},
   "source": [
    "Here is an example:"
   ]
  },
  {
   "cell_type": "code",
   "execution_count": null,
   "id": "332c6392-8fdc-4f3e-9533-476986ae0b71",
   "metadata": {},
   "outputs": [],
   "source": [
    "# Example 1: From a list, keep only even numbers as keys, map to their square\n",
    "nums = range(10)\n",
    "evens_squared = {n: n*n for n in nums if n % 2 == 0}\n",
    "print(list(nums))\n",
    "print(evens_squared)"
   ]
  },
  {
   "cell_type": "markdown",
   "id": "745625da-c0f7-4c18-9608-7ae50713a369",
   "metadata": {},
   "source": [
    "### ✏️✏️ Exercise 2.2: Filter into a Dict ✏️✏️\n",
    "Build a new dictionary that keeps only audio files with duration ≥ 1.0 seconds."
   ]
  },
  {
   "cell_type": "code",
   "execution_count": null,
   "id": "2605624e-0041-42fa-9e48-3646f4cfd276",
   "metadata": {},
   "outputs": [],
   "source": [
    "durations = {\n",
    "    \"kick.wav\": 0.42,\n",
    "    \"snare.wav\": 1.20,\n",
    "    \"hat.wav\": 0.15,\n",
    "    \"loop1.wav\": 2.50,\n",
    "    \"vocal.wav\": 0.95,\n",
    "}\n",
    "# Your code here: use a dict comprehension with an if filter on the value\n",
    "long_clips = None  # e.g., {\"snare.wav\": 1.20, \"loop1.wav\": 2.50}\n",
    "\n"
   ]
  },
  {
   "cell_type": "code",
   "execution_count": null,
   "id": "3fd0f9ed-599c-469c-88f8-8a17c8d4b252",
   "metadata": {},
   "outputs": [],
   "source": [
    "# Check your answer\n",
    "expected = {\"snare.wav\": 1.20, \"loop1.wav\": 2.50}\n",
    "assert long_clips == expected, f\"Got {long_clips}, expected {expected}\"\n",
    "print(\"Correct!\")"
   ]
  },
  {
   "cell_type": "markdown",
   "id": "35c40360-e638-4317-a362-ea66ad27fd0c",
   "metadata": {},
   "source": [
    "## 3 - Spectrograms in Python\n",
    "\n",
    "In this part, you’ll load some audio files, compute spectrograms with the Short-Time Fourier Transform (STFT), and visualize them. We’ll also explore log-frequency and mel-spectrograms, and see how window size affects time vs. frequency resolution."
   ]
  },
  {
   "cell_type": "code",
   "execution_count": null,
   "id": "211d0fee-f1be-4f8f-9aa0-9e6dee8ead56",
   "metadata": {},
   "outputs": [],
   "source": [
    "### Setup!\n",
    "%pip install soundfile #This downloads and installs 'soundfile'\n",
    "%pip install librosa   #This downloads and installs 'librosa'\n",
    "import librosa\n",
    "import soundfile as sf\n",
    "import IPython\n",
    "import numpy as np\n",
    "import matplotlib.pyplot as plt"
   ]
  },
  {
   "cell_type": "markdown",
   "id": "47810f89-5695-4d76-beef-7f7030504ed2",
   "metadata": {},
   "source": [
    "Below are some convinient functions for plotting spectrograms."
   ]
  },
  {
   "cell_type": "code",
   "execution_count": null,
   "id": "6ed1db14-7c59-429b-8c2a-8596580c25bc",
   "metadata": {},
   "outputs": [],
   "source": [
    "\n",
    "def plot_spectrogram(y, sr, n_fft=2048, hop_length=512, y_axis=\"hz\", title=None):\n",
    "    \"\"\"\n",
    "    Compute magnitude STFT, convert to dB, and plot as a spectrogram.\n",
    "\n",
    "    y_axis: \"hz\" or \"log\" for frequency axis scaling.\n",
    "    \"\"\"\n",
    "    S = librosa.stft(y, n_fft=n_fft, hop_length=hop_length, window=\"hann\")\n",
    "    S_db = librosa.amplitude_to_db(np.abs(S), ref=np.max)\n",
    "    plt.figure(figsize=(8, 3))\n",
    "    librosa.display.specshow(S_db, sr=sr, hop_length=hop_length, x_axis=\"time\", y_axis=y_axis, cmap=\"magma\")\n",
    "    plt.colorbar(label=\"dB\")\n",
    "    plt.title(title or f\"STFT (n_fft={n_fft}, hop={hop_length}, y_axis={y_axis})\")\n",
    "    plt.tight_layout()\n",
    "    plt.show()\n",
    "\n",
    "def plot_mel_spectrogram(y, sr, n_fft=2048, hop_length=512, n_mels=128, fmin=30, fmax=None, title=None):\n",
    "    \"\"\"\n",
    "    Compute mel-spectrogram (power) and plot in dB.\n",
    "    \"\"\"\n",
    "    S_mel = librosa.feature.melspectrogram(\n",
    "        y=y, sr=sr, n_fft=n_fft, hop_length=hop_length, n_mels=n_mels,\n",
    "        fmin=fmin, fmax=fmax or sr/2, center=True, window=\"hann\", power=2.0\n",
    "    )\n",
    "    S_mel_db = librosa.power_to_db(S_mel, ref=np.max)\n",
    "    plt.figure(figsize=(8, 3))\n",
    "    librosa.display.specshow(S_mel_db, sr=sr, hop_length=hop_length, x_axis=\"time\", y_axis=\"mel\", cmap=\"magma\")\n",
    "    plt.colorbar(label=\"dB\")\n",
    "    plt.title(title or f\"Mel Spectrogram (n_mels={n_mels})\")\n",
    "    plt.tight_layout()\n",
    "    plt.show()\n"
   ]
  },
  {
   "cell_type": "markdown",
   "id": "40ed7cd1-2b36-4f60-939c-f5cf73e83d8a",
   "metadata": {},
   "source": [
    "These functions have the following important arguments:\n",
    "- `n_fft` controls frequency resolution (more frequency bins with larger n_fft)\n",
    "- `hop_length` controls time step between frames (smaller hop = more frames, higher time resolution)."
   ]
  },
  {
   "cell_type": "markdown",
   "id": "7b103bfa-710e-4359-a7d6-69b1e4b11535",
   "metadata": {},
   "source": [
    "### 3.1 - Load and Listen to Audio\n",
    "\n",
    "This Notebook should have come with some example audio files (feel free to upload your own audio files if you like!). The below code loads an audio file and allows you to listen:"
   ]
  },
  {
   "cell_type": "code",
   "execution_count": null,
   "id": "8a0d52a5-2360-4569-a1b4-dc3fe8d06eaa",
   "metadata": {},
   "outputs": [],
   "source": [
    "# Adjust the path to any .wav file\n",
    "audio_path = \"AudioExamples/Sax_Scale.wav\"  # e.g., \"Audio/violin.wav\", \"Audio/flute.wav\", \"Audio/kick.wav\"\n",
    "\n",
    "y, sr = librosa.load(audio_path, mono=True, sr=None)  # sr=None preserves the original sampling rate\n",
    "print(f\"Loaded: {audio_path} | y.shape={y.shape}, sr={sr}, duration={len(y)/sr:.2f}s\")\n",
    "\n",
    "# Listen\n",
    "IPython.display.Audio(data=y, rate=sr)"
   ]
  },
  {
   "cell_type": "markdown",
   "id": "c75933c7-e44e-4774-b8ca-a2faf8f21726",
   "metadata": {},
   "source": [
    "We can plot this waveform as follows:"
   ]
  },
  {
   "cell_type": "code",
   "execution_count": null,
   "id": "bb9e2d6a-0c8a-46f3-93ca-31c5d2d64bab",
   "metadata": {},
   "outputs": [],
   "source": [
    "t = np.linspace(0, len(y)/sr, num=len(y))\n",
    "plt.figure(figsize=(7, 2.5))\n",
    "plt.plot(t, y, linewidth=0.8)\n",
    "plt.xlabel(\"Time (s)\")\n",
    "plt.ylabel(\"Amplitude\")\n",
    "plt.title(f\"Waveform: {audio_path}\")\n",
    "plt.grid(alpha=0.3)\n",
    "plt.tight_layout()\n",
    "plt.show()"
   ]
  },
  {
   "cell_type": "markdown",
   "id": "7d2e13a2-f5c5-4288-8b44-d72a9283423b",
   "metadata": {},
   "source": [
    "### 3.2 - STFT Spectrograms, Linear vs Log Frequency\n",
    "Here is the basic usage to plot the spectrogram:"
   ]
  },
  {
   "cell_type": "code",
   "execution_count": null,
   "id": "b300be15-afc1-44e2-9d65-09bdcd51d6f8",
   "metadata": {},
   "outputs": [],
   "source": [
    "# Linear frequency axis\n",
    "plot_spectrogram(y, sr, n_fft=2048, hop_length=512, y_axis=\"hz\", title=\"STFT (Linear Frequency)\")"
   ]
  },
  {
   "cell_type": "markdown",
   "id": "4978a649-903d-4d79-a1e5-3adc52d65db3",
   "metadata": {},
   "source": [
    "The above has a Linear scale on the Frequency axis. Often spectrograms are displayed with Log-frequency:"
   ]
  },
  {
   "cell_type": "code",
   "execution_count": null,
   "id": "793d49c7-5d8f-4dec-a2a2-9d71d97b3a64",
   "metadata": {},
   "outputs": [],
   "source": [
    "# Log frequency axis\n",
    "plot_spectrogram(y, sr, n_fft=2048, hop_length=512, y_axis=\"log\", title=\"STFT (Log Frequency)\")"
   ]
  },
  {
   "cell_type": "markdown",
   "id": "b98d109a-1371-43b1-85c6-d681404feb64",
   "metadata": {},
   "source": [
    "Compare the two spectrograms. Notice how the log-scaled axis makes it much easier to discern between components in the low-frequency region (0-3000 Hz or so)."
   ]
  },
  {
   "cell_type": "markdown",
   "id": "2268fb3f-af3b-40ac-8253-8b054a6a0930",
   "metadata": {},
   "source": [
    "### 3.3 Mel-Spectrograms\n",
    "Mel-spectrograms approximate human pitch perception and are widely used in audio ML."
   ]
  },
  {
   "cell_type": "code",
   "execution_count": null,
   "id": "8eeef31a-bc40-4c30-a329-1bfdfb2e86f8",
   "metadata": {},
   "outputs": [],
   "source": [
    "plot_mel_spectrogram(y, sr, n_fft=2048, hop_length=512, n_mels=128, fmin=30, fmax=sr/2,\n",
    "                     title=\"Mel-Spectrogram (dB)\")"
   ]
  },
  {
   "cell_type": "markdown",
   "id": "46d14a28-9983-4c15-bef1-031083ec6391",
   "metadata": {},
   "source": [
    "### 3.4 Time–Frequency Trade-off (Window Size)\n",
    "Larger windows (n_fft) improve frequency resolution at the cost of time-resolution. Smaller windows improve time resolution but reduce frequency resolution."
   ]
  },
  {
   "cell_type": "code",
   "execution_count": null,
   "id": "1e6c961a-f9e9-43a8-8f6b-9b358e86f20f",
   "metadata": {},
   "outputs": [],
   "source": [
    "# Larger window (better frequency resolution, poorer time resolution)\n",
    "plot_spectrogram(y[0:44100], sr, n_fft=4096, hop_length=1024, y_axis=\"log\", title=\"STFT: Large Window (4096/1024)\")\n",
    "\n",
    "# Smaller window (better time resolution, poorer frequency resolution)\n",
    "plot_spectrogram(y[0:44100], sr, n_fft=1024, hop_length=256, y_axis=\"log\", title=\"STFT: Small Window (1024/256)\")"
   ]
  },
  {
   "cell_type": "markdown",
   "id": "979f0f65-4dcc-4ec1-b224-3944e3d10d1b",
   "metadata": {},
   "source": [
    "### ✏️✏️ Exercise 3.1: Pitched Instruments — Violin vs Flute ✏️✏️\n",
    "Load the `Violin.wav` and `Flute.wav` files. For each:\n",
    "\n",
    "- Plot a log-frequency STFT and a mel-spectrogram.\n",
    "- Observe harmonic content and energy distribution. Listen to the two files and compare their spectrograms."
   ]
  },
  {
   "cell_type": "markdown",
   "id": "2ecebc2f-96ad-4b2b-94c4-29ba24064bd4",
   "metadata": {},
   "source": [
    "### ✏️✏️ Exercise 3.2: Transients — Drum Sample ✏️✏️\n",
    "Load the drum sample 'Amen_Break.wav'. Plot two spectrograms with different n_fft values and compare transient clarity.\n",
    "- How do adjustments to window size influence how easily you can identify the start of drum sounds?\n",
    "- Use a short section (1s or so) to make it easier to see"
   ]
  },
  {
   "cell_type": "markdown",
   "id": "66a2cfda-7eba-4102-8cc0-adf94f5fc9e7",
   "metadata": {},
   "source": [
    "# 🎯🎯 Challenge! 🎯🎯\n",
    "\n",
    "Explore the different audio files contained in the 'AudioExamples' directory. The Librosa library contains many audio features that can be used for ML tasks. Look at a few of them, for example:\n",
    "\n",
    "- librosa.feature.spectral_flatness()\n",
    "- librosa.feature.spectral_centroid()\n",
    "- librosa.feature.spectral_rolloff()\n",
    "\n",
    "Now, make a function that plots the spectrogram of some audio, and then overlays a spectral feature over the top. This should look somewhat like the examples shown on the documentation pages of Librosa:\n",
    "\n",
    "[https://librosa.org/doc/main/generated/librosa.feature.spectral_centroid.html](https://librosa.org/doc/main/generated/librosa.feature.spectral_centroid.html)\n",
    "\n",
    "For each feature, plot a few audio files and compare the results for different classes of sound, i.e harmonic instruments vs drum sounds."
   ]
  },
  {
   "cell_type": "code",
   "execution_count": null,
   "id": "f2f86221-8b39-4626-a2ed-560c3d35bbcf",
   "metadata": {},
   "outputs": [],
   "source": []
  }
 ],
 "metadata": {
  "kernelspec": {
   "display_name": "Python 3 (ipykernel)",
   "language": "python",
   "name": "python3"
  },
  "language_info": {
   "codemirror_mode": {
    "name": "ipython",
    "version": 3
   },
   "file_extension": ".py",
   "mimetype": "text/x-python",
   "name": "python",
   "nbconvert_exporter": "python",
   "pygments_lexer": "ipython3",
   "version": "3.12.11"
  }
 },
 "nbformat": 4,
 "nbformat_minor": 5
}
